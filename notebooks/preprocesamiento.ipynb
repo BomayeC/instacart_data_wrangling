{
 "cells": [
  {
   "cell_type": "markdown",
   "metadata": {},
   "source": [
    "# Descripción de los datos\n",
    "# \n",
    "Leer los archivos de datos (/datasets/instacart_orders.csv, /datasets/products.csv, /datasets/aisles.csv, /datasets/departments.csv y /datasets/order_products.csv) con pd.read_csv() usando los parámetros adecuados para leer los datos correctamente."
   ]
  },
  {
   "cell_type": "code",
   "execution_count": 76,
   "metadata": {},
   "outputs": [],
   "source": [
    "# importar librerías\n",
    "import pandas as pd\n",
    "import os"
   ]
  },
  {
   "cell_type": "code",
   "execution_count": 40,
   "metadata": {},
   "outputs": [],
   "source": [
    "# leer conjuntos de datos en los DataFrames\n",
    "\n",
    "orders_df = pd.read_csv('../datasets/raw/instacart_orders.csv', sep=';')\n",
    "products_df = pd.read_csv('../datasets/raw/products.csv', sep=';')\n",
    "order_product_df= pd.read_csv('../datasets/raw/order_products.csv', sep=';')\n",
    "aisles_df= pd.read_csv('../datasets/raw/aisles.csv', sep=';')\n",
    "departaments_df = pd.read_csv('../datasets/raw/departments.csv', sep=';')"
   ]
  },
  {
   "cell_type": "markdown",
   "metadata": {},
   "source": [
    "### Descripción de los datos"
   ]
  },
  {
   "cell_type": "code",
   "execution_count": 41,
   "metadata": {},
   "outputs": [
    {
     "name": "stdout",
     "output_type": "stream",
     "text": [
      "Tabla de Pedidos\n",
      "<class 'pandas.core.frame.DataFrame'>\n",
      "RangeIndex: 478967 entries, 0 to 478966\n",
      "Data columns (total 6 columns):\n",
      " #   Column                  Non-Null Count   Dtype  \n",
      "---  ------                  --------------   -----  \n",
      " 0   order_id                478967 non-null  int64  \n",
      " 1   user_id                 478967 non-null  int64  \n",
      " 2   order_number            478967 non-null  int64  \n",
      " 3   order_dow               478967 non-null  int64  \n",
      " 4   order_hour_of_day       478967 non-null  int64  \n",
      " 5   days_since_prior_order  450148 non-null  float64\n",
      "dtypes: float64(1), int64(5)\n",
      "memory usage: 21.9 MB\n",
      "\n",
      "   order_id  user_id  order_number  order_dow  order_hour_of_day  \\\n",
      "0   1515936   183418            11          6                 13   \n",
      "1   1690866   163593             5          5                 12   \n",
      "2   1454967    39980             4          5                 19   \n",
      "3   1768857    82516            56          0                 20   \n",
      "4   3007858   196724             2          4                 12   \n",
      "\n",
      "   days_since_prior_order  \n",
      "0                    30.0  \n",
      "1                     9.0  \n",
      "2                     2.0  \n",
      "3                    10.0  \n",
      "4                    17.0  \n",
      "\n",
      "Tabla de Productos\n",
      "<class 'pandas.core.frame.DataFrame'>\n",
      "RangeIndex: 49694 entries, 0 to 49693\n",
      "Data columns (total 4 columns):\n",
      " #   Column         Non-Null Count  Dtype \n",
      "---  ------         --------------  ----- \n",
      " 0   product_id     49694 non-null  int64 \n",
      " 1   product_name   48436 non-null  object\n",
      " 2   aisle_id       49694 non-null  int64 \n",
      " 3   department_id  49694 non-null  int64 \n",
      "dtypes: int64(3), object(1)\n",
      "memory usage: 1.5+ MB\n",
      "\n",
      "   product_id                                       product_name  aisle_id  \\\n",
      "0           1                         Chocolate Sandwich Cookies        61   \n",
      "1           2                                   All-Seasons Salt       104   \n",
      "2           3               Robust Golden Unsweetened Oolong Tea        94   \n",
      "3           4  Smart Ones Classic Favorites Mini Rigatoni Wit...        38   \n",
      "4           5                          Green Chile Anytime Sauce         5   \n",
      "\n",
      "   department_id  \n",
      "0             19  \n",
      "1             13  \n",
      "2              7  \n",
      "3              1  \n",
      "4             13  \n",
      "\n",
      "Tabla de Productos por Pedido\n",
      "<class 'pandas.core.frame.DataFrame'>\n",
      "RangeIndex: 4545007 entries, 0 to 4545006\n",
      "Data columns (total 4 columns):\n",
      " #   Column             Dtype  \n",
      "---  ------             -----  \n",
      " 0   order_id           int64  \n",
      " 1   product_id         int64  \n",
      " 2   add_to_cart_order  float64\n",
      " 3   reordered          int64  \n",
      "dtypes: float64(1), int64(3)\n",
      "memory usage: 138.7 MB\n",
      "\n",
      "   order_id  product_id  add_to_cart_order  reordered\n",
      "0   2141543       11440               17.0          0\n",
      "1    567889        1560                1.0          1\n",
      "2   2261212       26683                1.0          1\n",
      "3    491251        8670               35.0          1\n",
      "4   2571142        1940                5.0          1\n",
      "\n",
      "Tabla de Pasillos\n",
      "<class 'pandas.core.frame.DataFrame'>\n",
      "RangeIndex: 134 entries, 0 to 133\n",
      "Data columns (total 2 columns):\n",
      " #   Column    Non-Null Count  Dtype \n",
      "---  ------    --------------  ----- \n",
      " 0   aisle_id  134 non-null    int64 \n",
      " 1   aisle     134 non-null    object\n",
      "dtypes: int64(1), object(1)\n",
      "memory usage: 2.2+ KB\n",
      "\n",
      "   aisle_id                       aisle\n",
      "0         1       prepared soups salads\n",
      "1         2           specialty cheeses\n",
      "2         3         energy granola bars\n",
      "3         4               instant foods\n",
      "4         5  marinades meat preparation\n",
      "\n",
      "Tabla de Departamentos\n",
      "<class 'pandas.core.frame.DataFrame'>\n",
      "RangeIndex: 21 entries, 0 to 20\n",
      "Data columns (total 2 columns):\n",
      " #   Column         Non-Null Count  Dtype \n",
      "---  ------         --------------  ----- \n",
      " 0   department_id  21 non-null     int64 \n",
      " 1   department     21 non-null     object\n",
      "dtypes: int64(1), object(1)\n",
      "memory usage: 468.0+ bytes\n",
      "\n",
      "   department_id department\n",
      "0              1     frozen\n",
      "1              2      other\n",
      "2              3     bakery\n",
      "3              4    produce\n",
      "4              5    alcohol\n"
     ]
    }
   ],
   "source": [
    "# mostrar información del DataFrame\n",
    "print('Tabla de Pedidos')\n",
    "orders_df.info()\n",
    "print()\n",
    "print(orders_df.head())\n",
    "print()\n",
    "print('Tabla de Productos')\n",
    "products_df.info()\n",
    "print()\n",
    "print(products_df.head())\n",
    "print()\n",
    "print('Tabla de Productos por Pedido')\n",
    "order_product_df.info()\n",
    "print()\n",
    "print(order_product_df.head())\n",
    "print()\n",
    "print('Tabla de Pasillos')\n",
    "aisles_df.info()\n",
    "print()\n",
    "print(aisles_df.head())\n",
    "print()\n",
    "print('Tabla de Departamentos')\n",
    "departaments_df.info()\n",
    "print()\n",
    "print(departaments_df.head())"
   ]
  },
  {
   "cell_type": "markdown",
   "metadata": {},
   "source": [
    "### Duplicados y valores ausentes"
   ]
  },
  {
   "cell_type": "code",
   "execution_count": 42,
   "metadata": {},
   "outputs": [
    {
     "name": "stdout",
     "output_type": "stream",
     "text": [
      "Numero de duplicados: 15\n",
      "\n",
      "        order_id  user_id  order_number  order_dow  order_hour_of_day  \\\n",
      "145574    794638    50898            24          3                  2   \n",
      "223105   2160484   107525            16          3                  2   \n",
      "230807   1918001   188546            14          3                  2   \n",
      "266232   1782114   106752             1          3                  2   \n",
      "273805   1112182   202304            84          3                  2   \n",
      "284038   2845099    31189            11          3                  2   \n",
      "311713   1021560    53767             3          3                  2   \n",
      "321100    408114    68324             4          3                  2   \n",
      "323900   1919531   191501            32          3                  2   \n",
      "345917   2232988    82565             1          3                  2   \n",
      "371905    391768    57671            19          3                  2   \n",
      "394347    467134    63189            21          3                  2   \n",
      "411408   1286742   183220            48          3                  2   \n",
      "415163   2282673    86751            49          3                  2   \n",
      "441599   2125197    14050            48          3                  2   \n",
      "\n",
      "        days_since_prior_order  \n",
      "145574                     2.0  \n",
      "223105                    30.0  \n",
      "230807                    16.0  \n",
      "266232                     NaN  \n",
      "273805                     6.0  \n",
      "284038                     7.0  \n",
      "311713                     9.0  \n",
      "321100                    18.0  \n",
      "323900                     7.0  \n",
      "345917                     NaN  \n",
      "371905                    10.0  \n",
      "394347                     2.0  \n",
      "411408                     4.0  \n",
      "415163                     2.0  \n",
      "441599                     3.0  \n"
     ]
    }
   ],
   "source": [
    "print('Numero de duplicados:',orders_df.duplicated().sum())\n",
    "print()\n",
    "duplicated_orders_mask = orders_df.duplicated()\n",
    "print(orders_df[duplicated_orders_mask])\n",
    "\n",
    "\n",
    "\n"
   ]
  },
  {
   "cell_type": "code",
   "execution_count": 43,
   "metadata": {},
   "outputs": [
    {
     "name": "stdout",
     "output_type": "stream",
     "text": [
      "Numero de duplicados: 0\n",
      "\n",
      "Duplicados implicitos: 1257\n",
      "\n",
      "       product_id product_name  aisle_id  department_id\n",
      "71             72          NaN       100             21\n",
      "109           110          NaN       100             21\n",
      "296           297          NaN       100             21\n",
      "416           417          NaN       100             21\n",
      "436           437          NaN       100             21\n",
      "...           ...          ...       ...            ...\n",
      "49552       49553          NaN       100             21\n",
      "49574       49575          NaN       100             21\n",
      "49640       49641          NaN       100             21\n",
      "49663       49664          NaN       100             21\n",
      "49668       49669          NaN       100             21\n",
      "\n",
      "[1257 rows x 4 columns]\n"
     ]
    }
   ],
   "source": [
    "print('Numero de duplicados:',products_df.duplicated().sum())\n",
    "print()\n",
    "print('Duplicados implicitos:',products_df['product_name'].duplicated().sum())\n",
    "print()\n",
    "duplicated_products_mask = products_df['product_name'].duplicated()\n",
    "print(products_df[duplicated_products_mask])\n",
    "\n"
   ]
  },
  {
   "cell_type": "code",
   "execution_count": 44,
   "metadata": {},
   "outputs": [
    {
     "name": "stdout",
     "output_type": "stream",
     "text": [
      "order_id               0\n",
      "product_id             0\n",
      "add_to_cart_order    836\n",
      "reordered              0\n",
      "dtype: int64\n",
      "\n",
      "Numero de duplicados: 0\n"
     ]
    }
   ],
   "source": [
    "print(order_product_df.isna().sum())\n",
    "print()\n",
    "print('Numero de duplicados:',order_product_df.duplicated().sum())\n",
    "\n"
   ]
  },
  {
   "cell_type": "code",
   "execution_count": 45,
   "metadata": {},
   "outputs": [
    {
     "name": "stdout",
     "output_type": "stream",
     "text": [
      "\n",
      "Numero de duplicados: 0\n",
      "\n",
      "Duplicados implicitos: 0\n"
     ]
    }
   ],
   "source": [
    "print()\n",
    "print('Numero de duplicados:',aisles_df.duplicated().sum())\n",
    "print()\n",
    "print('Duplicados implicitos:',aisles_df['aisle'].duplicated().sum())\n",
    "\n"
   ]
  },
  {
   "cell_type": "code",
   "execution_count": 46,
   "metadata": {},
   "outputs": [
    {
     "name": "stdout",
     "output_type": "stream",
     "text": [
      "\n",
      "Numero de duplicados: 0\n",
      "Duplicados implicitos: 0\n"
     ]
    }
   ],
   "source": [
    "print()\n",
    "print('Numero de duplicados:',departaments_df.duplicated().sum())\n",
    "print('Duplicados implicitos:', departaments_df['department'].duplicated().sum())"
   ]
  },
  {
   "cell_type": "markdown",
   "metadata": {},
   "source": [
    "1.  orders_df   \n",
    "En este DataFrame tenemos las siguintes observaciones:\n",
    "\n",
    "Los nombres de las columnas tienen un buen formato, por lo que no es necesario realizarles algun cambio,\n",
    "Este DataFrame solamente tiene una columna con datos ausentes por lo que sera necesario revisarlo a detalle más adelante\n",
    "La columna 'days_since_prior_order' tiene datos de tipo flotante, dado que es un conteo de días, considero que no deberia ser de tipo flotante sino de tipo entero, ya que no hay dias fraccionados.\n",
    "En el DataFrame existen 15 filas duplicadas, por lo que sugiere algun tipo de error en este día y hora en especifico.\n",
    "\n",
    "2.  products_df   \n",
    "En este DataFrame tenemos las siguintes observaciones:\n",
    "\n",
    "Los nombres de las columnas tienen un buen formato, por lo que no es necesario realizarles algun cambio.\n",
    "La columna 'product_name' cuenta con datos asusentes o nulos, por lo que sera necesario revisarlo más adelante.\n",
    "No se encuentran duplicados explicitos, sin embargo al revisar 'product_name' observamos que arrojan duplicados pero por valores ausentes en la misma columna.\n",
    "\n",
    "3.  order_product_df   \n",
    "En este DataFrame tenemos las siguintes observaciones:\n",
    "\n",
    "Los nombres de las columnas tienen un buen formato, por lo que no es necesario realizarles algun cambio.\n",
    "La columna 'add_to_cart_order' tiene datos de tipo flotante, dado que es un orden de productos, considero que no deberia ser de tipo flotante sino de tipo entero, ya que no hay conteo fraccionado.\n",
    "el metodo info() no me muestra el conteo de entradas no nulas, sin embargo podemos realizar el conteo con el metodo isna(), ahora ya podemos observar que hay 836 valores nulos en la columna 'add_to_cart_order'\n",
    "\n",
    "4.  aisles_df   \n",
    "En este DataFrame tenemos las siguintes observaciones:\n",
    "\n",
    "Podemos observar que tanto los nombres de las columnas y los tipos de datos son consistentes, y no existen valores nulos en esta DataFrame\n",
    "\n",
    "5.  departaments_df   \n",
    "En este DataFrame tenemos las siguintes observaciones:\n",
    "\n",
    "Podemos observar que tanto los nombres de las columnas y los tipos de datos son consistentes, y no existen valores nulos en esta DataFrame\n",
    "Como conclusion general, todas los DataFrame creados tienen nombres de columnas consistentes, algunos datos podriamos cambiarlos a otro tipo de dato para que sea congruente con la información, y existen valores nulos que debemos revisar para determinar que realizar con ellos, ademas de que encontramos duplicados explicitos e implicitos que más adelante corregiremos."
   ]
  },
  {
   "cell_type": "markdown",
   "metadata": {},
   "source": [
    "# Preprocesamiento de los datos"
   ]
  },
  {
   "cell_type": "markdown",
   "metadata": {},
   "source": [
    "Antes de realizar nuestro análisis lo que haremos sera preparar los datos corrigiendo los tipos de datos, valores ausentes y valores duplicados,\n",
    "\n",
    "Primero corregiremos las columnas, 'days_since_prior_order'y 'add_to_cart_order' con un tipo de dato más adecuado ya que estan en tipo flotante y lo cambiaremos a tipo entero con el metodo astype()\n",
    "\n",
    "Despues identificaremos duplicados explícitos dentro de los DataFrame y asi poder eliminarlos de las tablas con los metodos duplicated() y drop_duplicates(), luego procederemos a buscar duplicados implicitos que puedan existir dentro de las columnas con el metodo unique() y verificar que no existan datos erroneos como algun duplicado por una mayuscula o minuscula que pueda afectar a los datos.\n",
    "\n",
    "Finalmente procesaremos los valores ausentes de las columnas 'product_name', 'days_since_prior_order' y 'add_to_cart_order' de la tablas products, orders y order_productos respectivamente."
   ]
  },
  {
   "cell_type": "markdown",
   "metadata": {},
   "source": [
    "## Valores duplicados"
   ]
  },
  {
   "cell_type": "markdown",
   "metadata": {},
   "source": [
    "### Dataframe Orders"
   ]
  },
  {
   "cell_type": "code",
   "execution_count": 47,
   "metadata": {},
   "outputs": [
    {
     "name": "stdout",
     "output_type": "stream",
     "text": [
      "Numero de filas duplicadas 15\n",
      "\n",
      "        order_id  user_id  order_number  order_dow  order_hour_of_day  \\\n",
      "145574    794638    50898            24          3                  2   \n",
      "223105   2160484   107525            16          3                  2   \n",
      "230807   1918001   188546            14          3                  2   \n",
      "266232   1782114   106752             1          3                  2   \n",
      "273805   1112182   202304            84          3                  2   \n",
      "284038   2845099    31189            11          3                  2   \n",
      "311713   1021560    53767             3          3                  2   \n",
      "321100    408114    68324             4          3                  2   \n",
      "323900   1919531   191501            32          3                  2   \n",
      "345917   2232988    82565             1          3                  2   \n",
      "371905    391768    57671            19          3                  2   \n",
      "394347    467134    63189            21          3                  2   \n",
      "411408   1286742   183220            48          3                  2   \n",
      "415163   2282673    86751            49          3                  2   \n",
      "441599   2125197    14050            48          3                  2   \n",
      "\n",
      "        days_since_prior_order  \n",
      "145574                     2.0  \n",
      "223105                    30.0  \n",
      "230807                    16.0  \n",
      "266232                     NaN  \n",
      "273805                     6.0  \n",
      "284038                     7.0  \n",
      "311713                     9.0  \n",
      "321100                    18.0  \n",
      "323900                     7.0  \n",
      "345917                     NaN  \n",
      "371905                    10.0  \n",
      "394347                     2.0  \n",
      "411408                     4.0  \n",
      "415163                     2.0  \n",
      "441599                     3.0  \n"
     ]
    }
   ],
   "source": [
    "# Revisamos si hay pedidos duplicados\n",
    "print('Numero de filas duplicadas', orders_df.duplicated().sum())\n",
    "print()\n",
    "print(orders_df[orders_df.duplicated()])"
   ]
  },
  {
   "cell_type": "markdown",
   "metadata": {},
   "source": [
    "Observamos que todos los pedidos se hicieron el miercoles a las 2 de la mañana."
   ]
  },
  {
   "cell_type": "code",
   "execution_count": 48,
   "metadata": {},
   "outputs": [
    {
     "name": "stdout",
     "output_type": "stream",
     "text": [
      "        order_id  user_id  order_number  order_dow  order_hour_of_day  \\\n",
      "4838     2766110   162084            41          3                  2   \n",
      "5156     2190225   138285            18          3                  2   \n",
      "15506     553049    58599            13          3                  2   \n",
      "18420     382357   120200            19          3                  2   \n",
      "24691     690242    77357             2          3                  2   \n",
      "...          ...      ...           ...        ...                ...   \n",
      "457013   3384021    14881             6          3                  2   \n",
      "458816    910166   164782            18          3                  2   \n",
      "459635   1680532   106435             6          3                  2   \n",
      "468324    222962    54979            59          3                  2   \n",
      "477526   2592344    46860            38          3                  2   \n",
      "\n",
      "        days_since_prior_order  \n",
      "4838                      16.0  \n",
      "5156                      11.0  \n",
      "15506                      7.0  \n",
      "18420                     11.0  \n",
      "24691                      9.0  \n",
      "...                        ...  \n",
      "457013                    30.0  \n",
      "458816                     4.0  \n",
      "459635                    21.0  \n",
      "468324                     3.0  \n",
      "477526                     3.0  \n",
      "\n",
      "[121 rows x 6 columns]\n"
     ]
    }
   ],
   "source": [
    "# Verificamos que todos los pedidos que se hicieron el miércoles a las 2:00 a.m.\n",
    "\n",
    "print(orders_df.query(\"order_dow == 3 & order_hour_of_day == 2\"))"
   ]
  },
  {
   "cell_type": "markdown",
   "metadata": {},
   "source": [
    "Lo que observamos es que debio existir algun tipo de error por parte de la aplicación, ya sea por comunicación fallida que duplico las entradas en este día de la semana, ya que no existen duplicados más alla de otros días."
   ]
  },
  {
   "cell_type": "code",
   "execution_count": 49,
   "metadata": {},
   "outputs": [],
   "source": [
    "# se elimina los pedidos duplicados\n",
    "orders_df = orders_df.drop_duplicates().reset_index(drop=True)"
   ]
  },
  {
   "cell_type": "code",
   "execution_count": 50,
   "metadata": {},
   "outputs": [
    {
     "name": "stdout",
     "output_type": "stream",
     "text": [
      "0\n"
     ]
    }
   ],
   "source": [
    "# verificamos si hay filas duplicadas\n",
    "print(orders_df.duplicated().sum())"
   ]
  },
  {
   "cell_type": "code",
   "execution_count": 51,
   "metadata": {},
   "outputs": [
    {
     "name": "stdout",
     "output_type": "stream",
     "text": [
      "0\n"
     ]
    }
   ],
   "source": [
    "# Verificamos únicamente si hay IDs duplicados de pedidos\n",
    "print(orders_df['order_id'].duplicated().sum())"
   ]
  },
  {
   "cell_type": "markdown",
   "metadata": {},
   "source": [
    "Descubrimos que existio un tipo de error especificamente el día miercoles a las 2 am, que permitio crear duplicados en nuestra tabla."
   ]
  },
  {
   "cell_type": "markdown",
   "metadata": {},
   "source": [
    "### Dataframe products"
   ]
  },
  {
   "cell_type": "code",
   "execution_count": 52,
   "metadata": {},
   "outputs": [
    {
     "name": "stdout",
     "output_type": "stream",
     "text": [
      "Numero de filas duplicadas 0\n"
     ]
    }
   ],
   "source": [
    "# Verificamos si hay filas totalmente duplicadas\n",
    "print('Numero de filas duplicadas', products_df.duplicated().sum())"
   ]
  },
  {
   "cell_type": "code",
   "execution_count": 53,
   "metadata": {},
   "outputs": [
    {
     "name": "stdout",
     "output_type": "stream",
     "text": [
      "49673\n"
     ]
    }
   ],
   "source": [
    "# Revisamos si hay ID de departamentos duplicados\n",
    "print(products_df['department_id'].duplicated().sum())"
   ]
  },
  {
   "cell_type": "code",
   "execution_count": 54,
   "metadata": {},
   "outputs": [
    {
     "name": "stdout",
     "output_type": "stream",
     "text": [
      "       product_id                                       product_name  \\\n",
      "0               1                         CHOCOLATE SANDWICH COOKIES   \n",
      "1               2                                   ALL-SEASONS SALT   \n",
      "2               3               ROBUST GOLDEN UNSWEETENED OOLONG TEA   \n",
      "3               4  SMART ONES CLASSIC FAVORITES MINI RIGATONI WIT...   \n",
      "4               5                          GREEN CHILE ANYTIME SAUCE   \n",
      "...           ...                                                ...   \n",
      "49689       49690                      HIGH PERFORMANCE ENERGY DRINK   \n",
      "49690       49691                      ORIGINAL PANCAKE & WAFFLE MIX   \n",
      "49691       49692    ORGANIC INSTANT OATMEAL LIGHT MAPLE BROWN SUGAR   \n",
      "49692       49693                             SPRING WATER BODY WASH   \n",
      "49693       49694                            BURRITO- STEAK & CHEESE   \n",
      "\n",
      "       aisle_id  department_id  \n",
      "0            61             19  \n",
      "1           104             13  \n",
      "2            94              7  \n",
      "3            38              1  \n",
      "4             5             13  \n",
      "...         ...            ...  \n",
      "49689        64              7  \n",
      "49690       130             14  \n",
      "49691       130             14  \n",
      "49692       127             11  \n",
      "49693        38              1  \n",
      "\n",
      "[49694 rows x 4 columns]\n",
      "1361\n"
     ]
    }
   ],
   "source": [
    "# Revisamos si hay nombres duplicados de productos\n",
    "\n",
    "products_df['product_name'] = products_df['product_name'].str.upper()\n",
    "print(products_df)\n",
    "print(products_df['product_name'].duplicated().sum())"
   ]
  },
  {
   "cell_type": "code",
   "execution_count": 55,
   "metadata": {},
   "outputs": [
    {
     "name": "stdout",
     "output_type": "stream",
     "text": [
      "104\n",
      "\n",
      "0\n"
     ]
    }
   ],
   "source": [
    "# Revisamos si hay nombres duplicados de productos no faltantes\n",
    "\n",
    "filter_product = products_df[~products_df['product_name'].isna()]\n",
    "print(filter_product['product_name'].duplicated().sum())\n",
    "print()\n",
    "products_df = products_df.drop_duplicates(subset='product_name').reset_index(drop=True)\n",
    "print(products_df['product_name'].duplicated().sum())"
   ]
  },
  {
   "cell_type": "markdown",
   "metadata": {},
   "source": [
    "En la columna product_name sin procesar existen 1257 entradas duplicadas y al realizar el cambio a mayusculas aumento el numero de dulicados esto porque en algunos casos no encontro duplicados implicitos, al colocar todo en mayusculas se puede obeervar mejor los duplicados existentes que son 1361, ademas vemos que 104 valores vienen de los productos no faltantes sin embargo la mayoria de estos duplicados son de valores ausentes, al filtrar quitando los valores no faltantes, eliminamos los duplicados por la columna y volvemos a revisar que quede en cero."
   ]
  },
  {
   "cell_type": "markdown",
   "metadata": {},
   "source": [
    "### Dataframe departments"
   ]
  },
  {
   "cell_type": "code",
   "execution_count": 56,
   "metadata": {},
   "outputs": [
    {
     "name": "stdout",
     "output_type": "stream",
     "text": [
      "Numero de filas duplicadas 0\n"
     ]
    }
   ],
   "source": [
    "# Revisamos si hay filas totalmente duplicadas\n",
    "print('Numero de filas duplicadas', departaments_df.duplicated().sum())"
   ]
  },
  {
   "cell_type": "code",
   "execution_count": 57,
   "metadata": {},
   "outputs": [
    {
     "name": "stdout",
     "output_type": "stream",
     "text": [
      "Numero de filas duplicadas 0\n"
     ]
    }
   ],
   "source": [
    "# Revisamos únicamente si hay IDs duplicadas de productos\n",
    "print('Numero de filas duplicadas', departaments_df['department_id'].duplicated().sum())"
   ]
  },
  {
   "cell_type": "markdown",
   "metadata": {},
   "source": [
    "En la tabla 'departaments' no se arrojan duplicados."
   ]
  },
  {
   "cell_type": "markdown",
   "metadata": {},
   "source": [
    "### Dataframe aisles"
   ]
  },
  {
   "cell_type": "code",
   "execution_count": 58,
   "metadata": {},
   "outputs": [
    {
     "name": "stdout",
     "output_type": "stream",
     "text": [
      "Numero de filas duplicadas 0\n"
     ]
    }
   ],
   "source": [
    "# Revisamos si hay filas totalmente duplicadas\n",
    "print('Numero de filas duplicadas', aisles_df.duplicated().sum())"
   ]
  },
  {
   "cell_type": "code",
   "execution_count": 59,
   "metadata": {},
   "outputs": [
    {
     "name": "stdout",
     "output_type": "stream",
     "text": [
      "Numero de filas duplicadas 0\n"
     ]
    }
   ],
   "source": [
    "# Revisamos únicamente si hay IDs duplicadas de productos\n",
    "print('Numero de filas duplicadas', aisles_df['aisle_id'].duplicated().sum())"
   ]
  },
  {
   "cell_type": "markdown",
   "metadata": {},
   "source": [
    "En la tabla 'aisles' no se encontraron duplicados."
   ]
  },
  {
   "cell_type": "markdown",
   "metadata": {},
   "source": [
    "### Dataframe order_products"
   ]
  },
  {
   "cell_type": "code",
   "execution_count": 60,
   "metadata": {},
   "outputs": [
    {
     "name": "stdout",
     "output_type": "stream",
     "text": [
      "Numero de filas duplicadas 0\n"
     ]
    }
   ],
   "source": [
    "# Revisamos si hay filas totalmente duplicadas\n",
    "print('Numero de filas duplicadas', order_product_df.duplicated().sum())"
   ]
  },
  {
   "cell_type": "code",
   "execution_count": 61,
   "metadata": {},
   "outputs": [
    {
     "name": "stdout",
     "output_type": "stream",
     "text": [
      "Numero de filas duplicadas 4094961\n",
      "Numero de filas duplicadas 4499434\n",
      "Numero de filas duplicadas 4544942\n",
      "Numero de filas duplicadas 4545005\n"
     ]
    }
   ],
   "source": [
    "# Volvemos a verificar si hay cualquier otro duplicado engañoso\n",
    "print('Numero de filas duplicadas', order_product_df['order_id'].duplicated().sum())\n",
    "print('Numero de filas duplicadas', order_product_df['product_id'].duplicated().sum())\n",
    "print('Numero de filas duplicadas', order_product_df['add_to_cart_order'].duplicated().sum())\n",
    "print('Numero de filas duplicadas', order_product_df['reordered'].duplicated().sum())"
   ]
  },
  {
   "cell_type": "markdown",
   "metadata": {},
   "source": [
    "En la tabla 'order_products' no existen duplicados, sin embargo al buscar duplicados por columna nos arrojan resultados, pero estos se duplican por el hecho de que cada orden puede tener varios productos."
   ]
  },
  {
   "cell_type": "markdown",
   "metadata": {},
   "source": [
    "## Valores ausentes"
   ]
  },
  {
   "cell_type": "markdown",
   "metadata": {},
   "source": [
    "Al trabajar con valores duplicados, pudimos observar que también nos falta investigar valores ausentes:\n",
    "\n",
    "1. La columna 'product_name' de la tabla products.\n",
    "2. La columna 'days_since_prior_order' de la tabla orders.\n",
    "3. La columna 'add_to_cart_order' de la tabla order_productos."
   ]
  },
  {
   "cell_type": "markdown",
   "metadata": {},
   "source": [
    "### Dataframe products"
   ]
  },
  {
   "cell_type": "code",
   "execution_count": 62,
   "metadata": {},
   "outputs": [
    {
     "name": "stdout",
     "output_type": "stream",
     "text": [
      "product_id       0\n",
      "product_name     1\n",
      "aisle_id         0\n",
      "department_id    0\n",
      "dtype: int64\n",
      "\n",
      "    product_id product_name  aisle_id  department_id\n",
      "37          38          NaN       100             21\n"
     ]
    }
   ],
   "source": [
    "# Buscaremos los valores ausentes en la columna 'product_name'\n",
    "print(products_df.isna().sum())\n",
    "print()\n",
    "print(products_df[products_df['product_name'].isna()])"
   ]
  },
  {
   "cell_type": "markdown",
   "metadata": {},
   "source": [
    "En la primera parte al revisar duplicados observamos que habian 104 valores duplicados ausentes, se eliminaron por lo que ahora solo queda un valor ausente que no estaba duplicado."
   ]
  },
  {
   "cell_type": "code",
   "execution_count": 63,
   "metadata": {},
   "outputs": [
    {
     "name": "stdout",
     "output_type": "stream",
     "text": [
      "    product_id product_name  aisle_id  department_id\n",
      "37          38          NaN       100             21\n"
     ]
    }
   ],
   "source": [
    "#  ¿Todos los nombres de productos ausentes están relacionados con el pasillo con ID 100?\n",
    "print(products_df[products_df['aisle_id'] == 100])"
   ]
  },
  {
   "cell_type": "markdown",
   "metadata": {},
   "source": [
    "Nos arrojan los mismos resultados al filtrar por pasillo #100."
   ]
  },
  {
   "cell_type": "code",
   "execution_count": 64,
   "metadata": {},
   "outputs": [
    {
     "name": "stdout",
     "output_type": "stream",
     "text": [
      "    product_id product_name  aisle_id  department_id\n",
      "37          38          NaN       100             21\n"
     ]
    }
   ],
   "source": [
    "# ¿Todos los nombres de productos ausentes están relacionados con el departamento con ID 21?\n",
    "print(products_df[products_df['department_id'] == 21])"
   ]
  },
  {
   "cell_type": "markdown",
   "metadata": {},
   "source": [
    "Nos vuelve a arrojar el mismo resultado al filtrar por el departamento #21."
   ]
  },
  {
   "cell_type": "code",
   "execution_count": 65,
   "metadata": {},
   "outputs": [
    {
     "name": "stdout",
     "output_type": "stream",
     "text": [
      "    product_id product_name  aisle_id  department_id\n",
      "37          38          NaN       100             21\n"
     ]
    }
   ],
   "source": [
    "print(products_df[(products_df['aisle_id'] == 100 ) & (products_df['department_id'] == 21)])"
   ]
  },
  {
   "cell_type": "markdown",
   "metadata": {},
   "source": [
    "Los valores ausentes de la columna 'product_name' se encuentran relacionados con el pasillo numero 100 y departamento 21."
   ]
  },
  {
   "cell_type": "code",
   "execution_count": 66,
   "metadata": {},
   "outputs": [
    {
     "name": "stdout",
     "output_type": "stream",
     "text": [
      "product_id       0\n",
      "product_name     0\n",
      "aisle_id         0\n",
      "department_id    0\n",
      "dtype: int64\n"
     ]
    }
   ],
   "source": [
    "# Completamos los nombres de productos ausentes con 'Unknown'\n",
    "products_df['product_name'] = products_df['product_name'].fillna('Unknown')\n",
    "print(products_df.isna().sum())"
   ]
  },
  {
   "cell_type": "markdown",
   "metadata": {},
   "source": [
    "Descubrimos que los valores ausentes se relacionaban estrechamente con el pasillo 100 y departmento 21, por lo que hemos remplazados los valores ausentes de la columna 'product_name' por 'Unknown' y al volver a contar observamos que se realizo el remplazo correctamente."
   ]
  },
  {
   "cell_type": "markdown",
   "metadata": {},
   "source": [
    "### Dataframe orders"
   ]
  },
  {
   "cell_type": "code",
   "execution_count": 67,
   "metadata": {},
   "outputs": [
    {
     "name": "stdout",
     "output_type": "stream",
     "text": [
      "order_id                      0\n",
      "user_id                       0\n",
      "order_number                  0\n",
      "order_dow                     0\n",
      "order_hour_of_day             0\n",
      "days_since_prior_order    28817\n",
      "dtype: int64\n",
      "\n",
      "        order_id  user_id  order_number  order_dow  order_hour_of_day  \\\n",
      "28        133707   182261             1          3                 10   \n",
      "96        787445    25685             1          6                 18   \n",
      "100       294410   111449             1          0                 19   \n",
      "103      2869915   123958             1          4                 16   \n",
      "104      2521921    42286             1          3                 18   \n",
      "...          ...      ...           ...        ...                ...   \n",
      "478880   2589657   205028             1          0                 16   \n",
      "478881   2222353   141211             1          2                 13   \n",
      "478907   2272807   204154             1          1                 15   \n",
      "478911   2499542    68810             1          4                 19   \n",
      "478930   1387033    22496             1          5                 14   \n",
      "\n",
      "        days_since_prior_order  \n",
      "28                         NaN  \n",
      "96                         NaN  \n",
      "100                        NaN  \n",
      "103                        NaN  \n",
      "104                        NaN  \n",
      "...                        ...  \n",
      "478880                     NaN  \n",
      "478881                     NaN  \n",
      "478907                     NaN  \n",
      "478911                     NaN  \n",
      "478930                     NaN  \n",
      "\n",
      "[28817 rows x 6 columns]\n"
     ]
    }
   ],
   "source": [
    "# buscamos los valores ausentes\n",
    "print(orders_df.isna().sum())\n",
    "print()\n",
    "print(orders_df[orders_df['days_since_prior_order'].isna()])"
   ]
  },
  {
   "cell_type": "code",
   "execution_count": 68,
   "metadata": {},
   "outputs": [
    {
     "name": "stdout",
     "output_type": "stream",
     "text": [
      "        order_id  user_id  order_number  order_dow  order_hour_of_day  \\\n",
      "28        133707   182261             1          3                 10   \n",
      "96        787445    25685             1          6                 18   \n",
      "100       294410   111449             1          0                 19   \n",
      "103      2869915   123958             1          4                 16   \n",
      "104      2521921    42286             1          3                 18   \n",
      "...          ...      ...           ...        ...                ...   \n",
      "478880   2589657   205028             1          0                 16   \n",
      "478881   2222353   141211             1          2                 13   \n",
      "478907   2272807   204154             1          1                 15   \n",
      "478911   2499542    68810             1          4                 19   \n",
      "478930   1387033    22496             1          5                 14   \n",
      "\n",
      "        days_since_prior_order  \n",
      "28                         NaN  \n",
      "96                         NaN  \n",
      "100                        NaN  \n",
      "103                        NaN  \n",
      "104                        NaN  \n",
      "...                        ...  \n",
      "478880                     NaN  \n",
      "478881                     NaN  \n",
      "478907                     NaN  \n",
      "478911                     NaN  \n",
      "478930                     NaN  \n",
      "\n",
      "[28817 rows x 6 columns]\n"
     ]
    },
    {
     "name": "stdout",
     "output_type": "stream",
     "text": [
      "order_id                  0\n",
      "user_id                   0\n",
      "order_number              0\n",
      "order_dow                 0\n",
      "order_hour_of_day         0\n",
      "days_since_prior_order    0\n",
      "dtype: int64\n"
     ]
    }
   ],
   "source": [
    "# ¿Hay algún valor ausente que no sea el primer pedido del cliente?\n",
    "print(orders_df[orders_df['order_number'] == 1])\n",
    "orders_df['days_since_prior_order'] = orders_df['days_since_prior_order'].fillna(0)\n",
    "print(orders_df.isna().sum())"
   ]
  },
  {
   "cell_type": "code",
   "execution_count": 69,
   "metadata": {},
   "outputs": [],
   "source": [
    "# Cambiar la columan days_since_prior_order a tipo entero\n",
    "# order_product_df['add_to_cart_order'] = order_product_df['add_to_cart_order'].astype('int')\n",
    "orders_df['days_since_prior_order'] = orders_df['days_since_prior_order'].astype('int')"
   ]
  },
  {
   "cell_type": "markdown",
   "metadata": {},
   "source": [
    "Encontramos que el primer pedido de cada cliente no tiene un numero especificado ya que es justamenete el primer pedido y no existe un conteo antes de este, por lo que podemos remplazarlo com un valor de cero para que no nos afecte y que sea clara la información que estamos interpretando."
   ]
  },
  {
   "cell_type": "markdown",
   "metadata": {},
   "source": [
    "### Dataframe order_products"
   ]
  },
  {
   "cell_type": "code",
   "execution_count": 70,
   "metadata": {},
   "outputs": [
    {
     "name": "stdout",
     "output_type": "stream",
     "text": [
      "order_id               0\n",
      "product_id             0\n",
      "add_to_cart_order    836\n",
      "reordered              0\n",
      "dtype: int64\n",
      "\n",
      "         order_id  product_id  add_to_cart_order  reordered\n",
      "737       2449164        5068                NaN          0\n",
      "9926      1968313       43867                NaN          0\n",
      "14394     2926893       11688                NaN          0\n",
      "16418     1717990        4142                NaN          0\n",
      "30114     1959075       42828                NaN          1\n",
      "...           ...         ...                ...        ...\n",
      "4505662   1800005        7411                NaN          0\n",
      "4511400   1633337         260                NaN          0\n",
      "4517562    404157        9517                NaN          0\n",
      "4534112   1673227       17835                NaN          0\n",
      "4535739   1832957       17949                NaN          1\n",
      "\n",
      "[836 rows x 4 columns]\n"
     ]
    }
   ],
   "source": [
    "# Buscar los valores ausentes\n",
    "print(order_product_df.isna().sum())\n",
    "print()\n",
    "print(order_product_df[order_product_df['add_to_cart_order'].isna()])"
   ]
  },
  {
   "cell_type": "code",
   "execution_count": 71,
   "metadata": {},
   "outputs": [
    {
     "name": "stdout",
     "output_type": "stream",
     "text": [
      "1.0\n",
      "\n",
      "64.0\n"
     ]
    }
   ],
   "source": [
    "# ¿Cuáles son los valores mínimos y máximos en esta columna?\n",
    "print(order_product_df['add_to_cart_order'].min())\n",
    "print()\n",
    "print(order_product_df['add_to_cart_order'].max())"
   ]
  },
  {
   "cell_type": "markdown",
   "metadata": {},
   "source": [
    "El conteo empieza en 1 y el maximo valor es el 999."
   ]
  },
  {
   "cell_type": "code",
   "execution_count": 72,
   "metadata": {},
   "outputs": [
    {
     "name": "stdout",
     "output_type": "stream",
     "text": [
      "         order_id\n",
      "737       2449164\n",
      "9926      1968313\n",
      "14394     2926893\n",
      "16418     1717990\n",
      "30114     1959075\n",
      "...           ...\n",
      "4505662   1800005\n",
      "4511400   1633337\n",
      "4517562    404157\n",
      "4534112   1673227\n",
      "4535739   1832957\n",
      "\n",
      "[836 rows x 1 columns]\n"
     ]
    }
   ],
   "source": [
    "# Guardamos todas las IDs de pedidos que tengan un valor ausente en 'add_to_cart_order'\n",
    "nan_order_df = order_product_df[order_product_df['add_to_cart_order'].isna()][['order_id']]\n",
    "print(nan_order_df)"
   ]
  },
  {
   "cell_type": "code",
   "execution_count": 73,
   "metadata": {},
   "outputs": [
    {
     "name": "stdout",
     "output_type": "stream",
     "text": [
      "order_id\n",
      "9310        65\n",
      "61355      127\n",
      "102236      95\n",
      "129627      69\n",
      "165801      70\n",
      "          ... \n",
      "2999801     70\n",
      "3125735     86\n",
      "3308010    115\n",
      "3347453     71\n",
      "3383594     69\n",
      "Name: product_id, Length: 70, dtype: int64\n",
      "65\n",
      "127\n"
     ]
    }
   ],
   "source": [
    "# ¿Todos los pedidos con valores ausentes tienen más de 64 productos?\n",
    "nan_order_filtered = order_product_df.query(\"order_id in @nan_order_df.order_id\") \n",
    "\n",
    "# Agrupamos todos los pedidos con datos ausentes por su ID de pedido.\n",
    "nan_order_group = nan_order_filtered.groupby('order_id')['product_id'].count()\n",
    "\n",
    "# Cuenta el número de 'product_id' en cada pedido y revisa el valor mínimo del conteo.\n",
    "min_product_count = nan_order_group.min()\n",
    "max_product_count = nan_order_group.max()\n",
    "print(nan_order_group)\n",
    "print(min_product_count)\n",
    "print(max_product_count)"
   ]
  },
  {
   "cell_type": "markdown",
   "metadata": {},
   "source": [
    "Observamos que los pedidos con valores ausentes tienen más de 64 productos. Se tendria que realizar algun análisis mas complejo para determinar la causa de los valores ausentes. Sin embargo es posible que el sistema tenga una limitación al procesar pedidos mayores a 64 productos."
   ]
  },
  {
   "cell_type": "code",
   "execution_count": 74,
   "metadata": {},
   "outputs": [
    {
     "name": "stdout",
     "output_type": "stream",
     "text": [
      "order_id             0\n",
      "product_id           0\n",
      "add_to_cart_order    0\n",
      "reordered            0\n",
      "dtype: int64\n",
      "<class 'pandas.core.frame.DataFrame'>\n",
      "RangeIndex: 4545007 entries, 0 to 4545006\n",
      "Data columns (total 4 columns):\n",
      " #   Column             Dtype\n",
      "---  ------             -----\n",
      " 0   order_id           int64\n",
      " 1   product_id         int64\n",
      " 2   add_to_cart_order  int64\n",
      " 3   reordered          int64\n",
      "dtypes: int64(4)\n",
      "memory usage: 138.7 MB\n"
     ]
    }
   ],
   "source": [
    "# Remplazaremos los valores ausentes en la columna 'add_to_cart? con 999 y convertiremos la columna al tipo entero.\n",
    "order_product_df['add_to_cart_order'] = order_product_df['add_to_cart_order'].fillna(999)\n",
    "order_product_df['add_to_cart_order'] = order_product_df['add_to_cart_order'].astype('int')\n",
    "print(order_product_df.isna().sum())\n",
    "\n",
    "order_product_df.info()"
   ]
  },
  {
   "cell_type": "markdown",
   "metadata": {},
   "source": [
    "Descubrimos que hay valores ausentes causados por diferentes problemas en el procesamiento de estos datos, como en el caso del primer pedido que se genera al no tener un valor inicial, tambien en ordenes mayores de 64 productos, por lo que seria importante verificar y soluciar estos errores en la aplicación.\n",
    "\n",
    "Tambien existe un error en el tipo de datos, por lo que es importante verificar que tipo de datos corresponde a cada columna de las tablas y que su procesamiento sea mas clara y congruente con lo que se esta presentando."
   ]
  },
  {
   "cell_type": "code",
   "execution_count": 75,
   "metadata": {},
   "outputs": [
    {
     "name": "stdout",
     "output_type": "stream",
     "text": [
      "Tabla de Pedidos\n",
      "<class 'pandas.core.frame.DataFrame'>\n",
      "RangeIndex: 478952 entries, 0 to 478951\n",
      "Data columns (total 6 columns):\n",
      " #   Column                  Non-Null Count   Dtype\n",
      "---  ------                  --------------   -----\n",
      " 0   order_id                478952 non-null  int64\n",
      " 1   user_id                 478952 non-null  int64\n",
      " 2   order_number            478952 non-null  int64\n",
      " 3   order_dow               478952 non-null  int64\n",
      " 4   order_hour_of_day       478952 non-null  int64\n",
      " 5   days_since_prior_order  478952 non-null  int64\n",
      "dtypes: int64(6)\n",
      "memory usage: 21.9 MB\n",
      "\n",
      "   order_id  user_id  order_number  order_dow  order_hour_of_day  \\\n",
      "0   1515936   183418            11          6                 13   \n",
      "1   1690866   163593             5          5                 12   \n",
      "2   1454967    39980             4          5                 19   \n",
      "3   1768857    82516            56          0                 20   \n",
      "4   3007858   196724             2          4                 12   \n",
      "\n",
      "   days_since_prior_order  \n",
      "0                      30  \n",
      "1                       9  \n",
      "2                       2  \n",
      "3                      10  \n",
      "4                      17  \n",
      "\n",
      "Tabla de Productos\n",
      "<class 'pandas.core.frame.DataFrame'>\n",
      "RangeIndex: 48333 entries, 0 to 48332\n",
      "Data columns (total 4 columns):\n",
      " #   Column         Non-Null Count  Dtype \n",
      "---  ------         --------------  ----- \n",
      " 0   product_id     48333 non-null  int64 \n",
      " 1   product_name   48333 non-null  object\n",
      " 2   aisle_id       48333 non-null  int64 \n",
      " 3   department_id  48333 non-null  int64 \n",
      "dtypes: int64(3), object(1)\n",
      "memory usage: 1.5+ MB\n",
      "\n",
      "   product_id                                       product_name  aisle_id  \\\n",
      "0           1                         CHOCOLATE SANDWICH COOKIES        61   \n",
      "1           2                                   ALL-SEASONS SALT       104   \n",
      "2           3               ROBUST GOLDEN UNSWEETENED OOLONG TEA        94   \n",
      "3           4  SMART ONES CLASSIC FAVORITES MINI RIGATONI WIT...        38   \n",
      "4           5                          GREEN CHILE ANYTIME SAUCE         5   \n",
      "\n",
      "   department_id  \n",
      "0             19  \n",
      "1             13  \n",
      "2              7  \n",
      "3              1  \n",
      "4             13  \n",
      "\n",
      "Tabla de Productos por Pedido\n",
      "<class 'pandas.core.frame.DataFrame'>\n",
      "RangeIndex: 4545007 entries, 0 to 4545006\n",
      "Data columns (total 4 columns):\n",
      " #   Column             Dtype\n",
      "---  ------             -----\n",
      " 0   order_id           int64\n",
      " 1   product_id         int64\n",
      " 2   add_to_cart_order  int64\n",
      " 3   reordered          int64\n",
      "dtypes: int64(4)\n",
      "memory usage: 138.7 MB\n",
      "\n",
      "   order_id  product_id  add_to_cart_order  reordered\n",
      "0   2141543       11440                 17          0\n",
      "1    567889        1560                  1          1\n",
      "2   2261212       26683                  1          1\n",
      "3    491251        8670                 35          1\n",
      "4   2571142        1940                  5          1\n",
      "\n",
      "Tabla de Pasillos\n",
      "<class 'pandas.core.frame.DataFrame'>\n",
      "RangeIndex: 134 entries, 0 to 133\n",
      "Data columns (total 2 columns):\n",
      " #   Column    Non-Null Count  Dtype \n",
      "---  ------    --------------  ----- \n",
      " 0   aisle_id  134 non-null    int64 \n",
      " 1   aisle     134 non-null    object\n",
      "dtypes: int64(1), object(1)\n",
      "memory usage: 2.2+ KB\n",
      "\n",
      "   aisle_id                       aisle\n",
      "0         1       prepared soups salads\n",
      "1         2           specialty cheeses\n",
      "2         3         energy granola bars\n",
      "3         4               instant foods\n",
      "4         5  marinades meat preparation\n",
      "\n",
      "Tabla de Departamentos\n",
      "<class 'pandas.core.frame.DataFrame'>\n",
      "RangeIndex: 21 entries, 0 to 20\n",
      "Data columns (total 2 columns):\n",
      " #   Column         Non-Null Count  Dtype \n",
      "---  ------         --------------  ----- \n",
      " 0   department_id  21 non-null     int64 \n",
      " 1   department     21 non-null     object\n",
      "dtypes: int64(1), object(1)\n",
      "memory usage: 468.0+ bytes\n",
      "\n",
      "   department_id department\n",
      "0              1     frozen\n",
      "1              2      other\n",
      "2              3     bakery\n",
      "3              4    produce\n",
      "4              5    alcohol\n"
     ]
    }
   ],
   "source": [
    "# mostrar información del DataFrame\n",
    "print('Tabla de Pedidos')\n",
    "orders_df.info()\n",
    "print()\n",
    "print(orders_df.head())\n",
    "print()\n",
    "print('Tabla de Productos')\n",
    "products_df.info()\n",
    "print()\n",
    "print(products_df.head())\n",
    "print()\n",
    "print('Tabla de Productos por Pedido')\n",
    "order_product_df.info()\n",
    "print()\n",
    "print(order_product_df.head())\n",
    "print()\n",
    "print('Tabla de Pasillos')\n",
    "aisles_df.info()\n",
    "print()\n",
    "print(aisles_df.head())\n",
    "print()\n",
    "print('Tabla de Departamentos')\n",
    "departaments_df.info()\n",
    "print()\n",
    "print(departaments_df.head())"
   ]
  },
  {
   "cell_type": "code",
   "execution_count": 77,
   "metadata": {},
   "outputs": [],
   "source": [
    "# ya que tenemos lo datos limpios los pasamos a la carpeta de datasets para \n",
    "# realizar el proceso de EDA\n",
    "orders_df.to_csv('../datasets/clean/orders_df_clean.csv', index=False)\n",
    "products_df.to_csv('../datasets/clean/products_df_clean.csv', index=False)\n",
    "order_product_df.to_csv('../datasets/clean/order_product_df_clean.csv', index=False)\n",
    "aisles_df.to_csv('../datasets/clean/aisles_df_clean.csv', index=False)\n",
    "departaments_df.to_csv('../datasets/clean/departaments_df_clean.csv', index=False)\n"
   ]
  }
 ],
 "metadata": {
  "kernelspec": {
   "display_name": "Python 3",
   "language": "python",
   "name": "python3"
  },
  "language_info": {
   "codemirror_mode": {
    "name": "ipython",
    "version": 3
   },
   "file_extension": ".py",
   "mimetype": "text/x-python",
   "name": "python",
   "nbconvert_exporter": "python",
   "pygments_lexer": "ipython3",
   "version": "3.12.0"
  }
 },
 "nbformat": 4,
 "nbformat_minor": 2
}
