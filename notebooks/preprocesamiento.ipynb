{
 "cells": [
  {
   "cell_type": "markdown",
   "metadata": {},
   "source": [
    "# Descripción de los datos\n",
    "# \n",
    "Leer los archivos de datos (/datasets/instacart_orders.csv, /datasets/products.csv, /datasets/aisles.csv, /datasets/departments.csv y /datasets/order_products.csv) con pd.read_csv() usando los parámetros adecuados para leer los datos correctamente."
   ]
  },
  {
   "cell_type": "code",
   "execution_count": 5,
   "metadata": {},
   "outputs": [],
   "source": [
    "# importar librerías\n",
    "import pandas as pd\n",
    "from matplotlib import pyplot as plt"
   ]
  },
  {
   "cell_type": "code",
   "execution_count": 6,
   "metadata": {},
   "outputs": [],
   "source": [
    "# leer conjuntos de datos en los DataFrames\n",
    "\n",
    "orders_df = pd.read_csv('../datasets/raw/instacart_orders.csv', sep=';')\n",
    "products_df = pd.read_csv('../datasets/raw/products.csv', sep=';')\n",
    "order_product_df= pd.read_csv('../datasets/raw/order_products.csv', sep=';')\n",
    "aisles_df= pd.read_csv('../datasets/raw/aisles.csv', sep=';')\n",
    "departaments_df = pd.read_csv('../datasets/raw/departments.csv', sep=';')"
   ]
  },
  {
   "cell_type": "markdown",
   "metadata": {},
   "source": [
    "### Descripción de los datos"
   ]
  },
  {
   "cell_type": "code",
   "execution_count": 9,
   "metadata": {},
   "outputs": [
    {
     "name": "stdout",
     "output_type": "stream",
     "text": [
      "Tabla de Pedidos\n",
      "<class 'pandas.core.frame.DataFrame'>\n",
      "RangeIndex: 478967 entries, 0 to 478966\n",
      "Data columns (total 6 columns):\n",
      " #   Column                  Non-Null Count   Dtype  \n",
      "---  ------                  --------------   -----  \n",
      " 0   order_id                478967 non-null  int64  \n",
      " 1   user_id                 478967 non-null  int64  \n",
      " 2   order_number            478967 non-null  int64  \n",
      " 3   order_dow               478967 non-null  int64  \n",
      " 4   order_hour_of_day       478967 non-null  int64  \n",
      " 5   days_since_prior_order  450148 non-null  float64\n",
      "dtypes: float64(1), int64(5)\n",
      "memory usage: 21.9 MB\n",
      "\n",
      "   order_id  user_id  order_number  order_dow  order_hour_of_day  \\\n",
      "0   1515936   183418            11          6                 13   \n",
      "1   1690866   163593             5          5                 12   \n",
      "2   1454967    39980             4          5                 19   \n",
      "3   1768857    82516            56          0                 20   \n",
      "4   3007858   196724             2          4                 12   \n",
      "\n",
      "   days_since_prior_order  \n",
      "0                    30.0  \n",
      "1                     9.0  \n",
      "2                     2.0  \n",
      "3                    10.0  \n",
      "4                    17.0  \n",
      "\n",
      "Tabla de Productos\n",
      "<class 'pandas.core.frame.DataFrame'>\n",
      "RangeIndex: 49694 entries, 0 to 49693\n",
      "Data columns (total 4 columns):\n",
      " #   Column         Non-Null Count  Dtype \n",
      "---  ------         --------------  ----- \n",
      " 0   product_id     49694 non-null  int64 \n",
      " 1   product_name   48436 non-null  object\n",
      " 2   aisle_id       49694 non-null  int64 \n",
      " 3   department_id  49694 non-null  int64 \n",
      "dtypes: int64(3), object(1)\n",
      "memory usage: 1.5+ MB\n",
      "\n",
      "   product_id                                       product_name  aisle_id  \\\n",
      "0           1                         Chocolate Sandwich Cookies        61   \n",
      "1           2                                   All-Seasons Salt       104   \n",
      "2           3               Robust Golden Unsweetened Oolong Tea        94   \n",
      "3           4  Smart Ones Classic Favorites Mini Rigatoni Wit...        38   \n",
      "4           5                          Green Chile Anytime Sauce         5   \n",
      "\n",
      "   department_id  \n",
      "0             19  \n",
      "1             13  \n",
      "2              7  \n",
      "3              1  \n",
      "4             13  \n",
      "\n",
      "Tabla de Productos por Pedido\n",
      "<class 'pandas.core.frame.DataFrame'>\n",
      "RangeIndex: 4545007 entries, 0 to 4545006\n",
      "Data columns (total 4 columns):\n",
      " #   Column             Dtype  \n",
      "---  ------             -----  \n",
      " 0   order_id           int64  \n",
      " 1   product_id         int64  \n",
      " 2   add_to_cart_order  float64\n",
      " 3   reordered          int64  \n",
      "dtypes: float64(1), int64(3)\n",
      "memory usage: 138.7 MB\n",
      "\n",
      "   order_id  product_id  add_to_cart_order  reordered\n",
      "0   2141543       11440               17.0          0\n",
      "1    567889        1560                1.0          1\n",
      "2   2261212       26683                1.0          1\n",
      "3    491251        8670               35.0          1\n",
      "4   2571142        1940                5.0          1\n",
      "\n",
      "Tabla de Pasillos\n",
      "<class 'pandas.core.frame.DataFrame'>\n",
      "RangeIndex: 134 entries, 0 to 133\n",
      "Data columns (total 2 columns):\n",
      " #   Column    Non-Null Count  Dtype \n",
      "---  ------    --------------  ----- \n",
      " 0   aisle_id  134 non-null    int64 \n",
      " 1   aisle     134 non-null    object\n",
      "dtypes: int64(1), object(1)\n",
      "memory usage: 2.2+ KB\n",
      "\n",
      "   aisle_id                       aisle\n",
      "0         1       prepared soups salads\n",
      "1         2           specialty cheeses\n",
      "2         3         energy granola bars\n",
      "3         4               instant foods\n",
      "4         5  marinades meat preparation\n",
      "\n",
      "Tabla de Departamentos\n",
      "<class 'pandas.core.frame.DataFrame'>\n",
      "RangeIndex: 21 entries, 0 to 20\n",
      "Data columns (total 2 columns):\n",
      " #   Column         Non-Null Count  Dtype \n",
      "---  ------         --------------  ----- \n",
      " 0   department_id  21 non-null     int64 \n",
      " 1   department     21 non-null     object\n",
      "dtypes: int64(1), object(1)\n",
      "memory usage: 468.0+ bytes\n",
      "\n",
      "   department_id department\n",
      "0              1     frozen\n",
      "1              2      other\n",
      "2              3     bakery\n",
      "3              4    produce\n",
      "4              5    alcohol\n"
     ]
    }
   ],
   "source": [
    "# mostrar información del DataFrame\n",
    "print('Tabla de Pedidos')\n",
    "orders_df.info()\n",
    "print()\n",
    "print(orders_df.head())\n",
    "print()\n",
    "print('Tabla de Productos')\n",
    "products_df.info()\n",
    "print()\n",
    "print(products_df.head())\n",
    "print()\n",
    "print('Tabla de Productos por Pedido')\n",
    "order_product_df.info()\n",
    "print()\n",
    "print(order_product_df.head())\n",
    "print()\n",
    "print('Tabla de Pasillos')\n",
    "aisles_df.info()\n",
    "print()\n",
    "print(aisles_df.head())\n",
    "print()\n",
    "print('Tabla de Departamentos')\n",
    "departaments_df.info()\n",
    "print()\n",
    "print(departaments_df.head())"
   ]
  },
  {
   "cell_type": "markdown",
   "metadata": {},
   "source": [
    "### Duplicados y valores ausentes"
   ]
  },
  {
   "cell_type": "code",
   "execution_count": null,
   "metadata": {},
   "outputs": [
    {
     "name": "stdout",
     "output_type": "stream",
     "text": [
      "\n",
      "Numero de duplicados: 15\n",
      "\n",
      "        order_id  user_id  order_number  order_dow  order_hour_of_day  \\\n",
      "145574    794638    50898            24          3                  2   \n",
      "223105   2160484   107525            16          3                  2   \n",
      "230807   1918001   188546            14          3                  2   \n",
      "266232   1782114   106752             1          3                  2   \n",
      "273805   1112182   202304            84          3                  2   \n",
      "284038   2845099    31189            11          3                  2   \n",
      "311713   1021560    53767             3          3                  2   \n",
      "321100    408114    68324             4          3                  2   \n",
      "323900   1919531   191501            32          3                  2   \n",
      "345917   2232988    82565             1          3                  2   \n",
      "371905    391768    57671            19          3                  2   \n",
      "394347    467134    63189            21          3                  2   \n",
      "411408   1286742   183220            48          3                  2   \n",
      "415163   2282673    86751            49          3                  2   \n",
      "441599   2125197    14050            48          3                  2   \n",
      "\n",
      "        days_since_prior_order  \n",
      "145574                     2.0  \n",
      "223105                    30.0  \n",
      "230807                    16.0  \n",
      "266232                     NaN  \n",
      "273805                     6.0  \n",
      "284038                     7.0  \n",
      "311713                     9.0  \n",
      "321100                    18.0  \n",
      "323900                     7.0  \n",
      "345917                     NaN  \n",
      "371905                    10.0  \n",
      "394347                     2.0  \n",
      "411408                     4.0  \n",
      "415163                     2.0  \n",
      "441599                     3.0  \n"
     ]
    }
   ],
   "source": [
    "print('Numero de duplicados:',orders_df.duplicated().sum())\n",
    "print()\n",
    "duplicated_orders_mask = orders_df.duplicated()\n",
    "print(orders_df[duplicated_orders_mask])\n",
    "\n",
    "\n",
    "\n"
   ]
  },
  {
   "cell_type": "code",
   "execution_count": null,
   "metadata": {},
   "outputs": [
    {
     "name": "stdout",
     "output_type": "stream",
     "text": [
      "\n",
      "Numero de duplicados: 0\n",
      "\n",
      "Duplicados implicitos: 1257\n",
      "\n",
      "       product_id product_name  aisle_id  department_id\n",
      "71             72          NaN       100             21\n",
      "109           110          NaN       100             21\n",
      "296           297          NaN       100             21\n",
      "416           417          NaN       100             21\n",
      "436           437          NaN       100             21\n",
      "...           ...          ...       ...            ...\n",
      "49552       49553          NaN       100             21\n",
      "49574       49575          NaN       100             21\n",
      "49640       49641          NaN       100             21\n",
      "49663       49664          NaN       100             21\n",
      "49668       49669          NaN       100             21\n",
      "\n",
      "[1257 rows x 4 columns]\n"
     ]
    }
   ],
   "source": [
    "print('Numero de duplicados:',products_df.duplicated().sum())\n",
    "print()\n",
    "print('Duplicados implicitos:',products_df['product_name'].duplicated().sum())\n",
    "print()\n",
    "duplicated_products_mask = products_df['product_name'].duplicated()\n",
    "print(products_df[duplicated_products_mask])\n",
    "\n"
   ]
  },
  {
   "cell_type": "code",
   "execution_count": 13,
   "metadata": {},
   "outputs": [
    {
     "name": "stdout",
     "output_type": "stream",
     "text": [
      "order_id               0\n",
      "product_id             0\n",
      "add_to_cart_order    836\n",
      "reordered              0\n",
      "dtype: int64\n",
      "\n",
      "Numero de duplicados: 0\n"
     ]
    }
   ],
   "source": [
    "print(order_product_df.isna().sum())\n",
    "print()\n",
    "print('Numero de duplicados:',order_product_df.duplicated().sum())\n",
    "\n"
   ]
  },
  {
   "cell_type": "code",
   "execution_count": 14,
   "metadata": {},
   "outputs": [
    {
     "name": "stdout",
     "output_type": "stream",
     "text": [
      "\n",
      "Numero de duplicados: 0\n",
      "\n",
      "Duplicados implicitos: 0\n"
     ]
    }
   ],
   "source": [
    "print()\n",
    "print('Numero de duplicados:',aisles_df.duplicated().sum())\n",
    "print()\n",
    "print('Duplicados implicitos:',aisles_df['aisle'].duplicated().sum())\n",
    "\n"
   ]
  },
  {
   "cell_type": "code",
   "execution_count": 15,
   "metadata": {},
   "outputs": [
    {
     "name": "stdout",
     "output_type": "stream",
     "text": [
      "\n",
      "Numero de duplicados: 0\n",
      "Duplicados implicitos: 0\n"
     ]
    }
   ],
   "source": [
    "print()\n",
    "print('Numero de duplicados:',departaments_df.duplicated().sum())\n",
    "print('Duplicados implicitos:', departaments_df['department'].duplicated().sum())"
   ]
  },
  {
   "cell_type": "markdown",
   "metadata": {},
   "source": [
    "1.  orders_df   \n",
    "En este DataFrame tenemos las siguintes observaciones:\n",
    "\n",
    "Los nombres de las columnas tienen un buen formato, por lo que no es necesario realizarles algun cambio,\n",
    "Este DataFrame solamente tiene una columna con datos ausentes por lo que sera necesario revisarlo a detalle más adelante\n",
    "La columna 'days_since_prior_order' tiene datos de tipo flotante, dado que es un conteo de días, considero que no deberia ser de tipo flotante sino de tipo entero, ya que no hay dias fraccionados.\n",
    "En el DataFrame existen 15 filas duplicadas, por lo que sugiere algun tipo de error en este día y hora en especifico.\n",
    "\n",
    "2.  products_df   \n",
    "En este DataFrame tenemos las siguintes observaciones:\n",
    "\n",
    "Los nombres de las columnas tienen un buen formato, por lo que no es necesario realizarles algun cambio.\n",
    "La columna 'product_name' cuenta con datos asusentes o nulos, por lo que sera necesario revisarlo más adelante.\n",
    "No se encuentran duplicados explicitos, sin embargo al revisar 'product_name' observamos que arrojan duplicados pero por valores ausentes en la misma columna.\n",
    "\n",
    "3.  order_product_df   \n",
    "En este DataFrame tenemos las siguintes observaciones:\n",
    "\n",
    "Los nombres de las columnas tienen un buen formato, por lo que no es necesario realizarles algun cambio.\n",
    "La columna 'add_to_cart_order' tiene datos de tipo flotante, dado que es un orden de productos, considero que no deberia ser de tipo flotante sino de tipo entero, ya que no hay conteo fraccionado.\n",
    "el metodo info() no me muestra el conteo de entradas no nulas, sin embargo podemos realizar el conteo con el metodo isna(), ahora ya podemos observar que hay 836 valores nulos en la columna 'add_to_cart_order'\n",
    "\n",
    "4.  aisles_df   \n",
    "En este DataFrame tenemos las siguintes observaciones:\n",
    "\n",
    "Podemos observar que tanto los nombres de las columnas y los tipos de datos son consistentes, y no existen valores nulos en esta DataFrame\n",
    "\n",
    "5.  departaments_df   \n",
    "En este DataFrame tenemos las siguintes observaciones:\n",
    "\n",
    "Podemos observar que tanto los nombres de las columnas y los tipos de datos son consistentes, y no existen valores nulos en esta DataFrame\n",
    "Como conclusion general, todas los DataFrame creados tienen nombres de columnas consistentes, algunos datos podriamos cambiarlos a otro tipo de dato para que sea congruente con la información, y existen valores nulos que debemos revisar para determinar que realizar con ellos, ademas de que encontramos duplicados explicitos e implicitos que más adelante corregiremos."
   ]
  }
 ],
 "metadata": {
  "kernelspec": {
   "display_name": "Python 3",
   "language": "python",
   "name": "python3"
  },
  "language_info": {
   "codemirror_mode": {
    "name": "ipython",
    "version": 3
   },
   "file_extension": ".py",
   "mimetype": "text/x-python",
   "name": "python",
   "nbconvert_exporter": "python",
   "pygments_lexer": "ipython3",
   "version": "3.12.0"
  }
 },
 "nbformat": 4,
 "nbformat_minor": 2
}
