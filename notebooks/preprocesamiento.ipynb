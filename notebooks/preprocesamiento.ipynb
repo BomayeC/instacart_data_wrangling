{
 "cells": [
  {
   "cell_type": "markdown",
   "metadata": {},
   "source": [
    "# Descripción de los datos\n",
    "# \n",
    "Leer los archivos de datos (/datasets/instacart_orders.csv, /datasets/products.csv, /datasets/aisles.csv, /datasets/departments.csv y /datasets/order_products.csv) con pd.read_csv() usando los parámetros adecuados para leer los datos correctamente."
   ]
  },
  {
   "cell_type": "code",
   "execution_count": null,
   "metadata": {},
   "outputs": [],
   "source": [
    "# importar librerías\n",
    "import pandas as pd\n",
    "from matplotlib import pyplot as plt"
   ]
  },
  {
   "cell_type": "code",
   "execution_count": null,
   "metadata": {},
   "outputs": [],
   "source": [
    "# leer conjuntos de datos en los DataFrames\n",
    "\n",
    "orders_df = pd.read_csv('../datasets/raw/instacart_orders.csv', sep=';')\n",
    "products_df = pd.read_csv('../datasets/raw/products.csv', sep=';')\n",
    "order_product_df= pd.read_csv('../datasets/raw/order_products.csv', sep=';')\n",
    "aisles_df= pd.read_csv('../datasets/raw/aisles.csv', sep=';')\n",
    "departaments_df = pd.read_csv('../datasets/raw/departments.csv', sep=';')"
   ]
  },
  {
   "cell_type": "code",
   "execution_count": null,
   "metadata": {},
   "outputs": [],
   "source": [
    "# mostrar información del DataFrame\n",
    "orders_df.info()\n",
    "print()\n",
    "print(orders_df.head())\n",
    "print()\n",
    "print('Numero de duplicados:',orders_df.duplicated().sum())\n",
    "print()\n",
    "duplicated_orders_mask = orders_df.duplicated()\n",
    "print(orders_df[duplicated_orders_mask])"
   ]
  }
 ],
 "metadata": {
  "kernelspec": {
   "display_name": "Python 3",
   "language": "python",
   "name": "python3"
  },
  "language_info": {
   "codemirror_mode": {
    "name": "ipython",
    "version": 3
   },
   "file_extension": ".py",
   "mimetype": "text/x-python",
   "name": "python",
   "nbconvert_exporter": "python",
   "pygments_lexer": "ipython3",
   "version": "3.12.0"
  }
 },
 "nbformat": 4,
 "nbformat_minor": 2
}
